{
  "nbformat": 4,
  "nbformat_minor": 0,
  "metadata": {
    "colab": {
      "provenance": [],
      "authorship_tag": "ABX9TyPecEbZVBK6i2UpRUVK40r9",
      "include_colab_link": true
    },
    "kernelspec": {
      "name": "python3",
      "display_name": "Python 3"
    },
    "language_info": {
      "name": "python"
    }
  },
  "cells": [
    {
      "cell_type": "markdown",
      "metadata": {
        "id": "view-in-github",
        "colab_type": "text"
      },
      "source": [
        "<a href=\"https://colab.research.google.com/github/seihoon/workeraction/blob/main/workeraction.ipynb\" target=\"_parent\"><img src=\"https://colab.research.google.com/assets/colab-badge.svg\" alt=\"Open In Colab\"/></a>"
      ]
    },
    {
      "cell_type": "code",
      "execution_count": null,
      "metadata": {
        "colab": {
          "base_uri": "https://localhost:8080/"
        },
        "id": "kwnlJH4mr_bt",
        "outputId": "54557e83-a3d0-4302-a912-7da74dfd65de"
      },
      "outputs": [
        {
          "output_type": "stream",
          "name": "stdout",
          "text": [
            "Successfully read stop.csv\n",
            "Successfully read walk.csv\n",
            "Successfully read run.csv\n",
            "Combined data saved to workeraction.csv\n",
            "\n",
            "Files in current directory:\n",
            "['.config', 'walk.csv', 'run.csv', 'workeraction.csv', 'stop.csv', 'sample_data']\n"
          ]
        }
      ],
      "source": [
        "# prompt: 현재 디렉토리에 있는 작업자의 3가지 행동(stop, walk, run)에 대한 csv 센서 데이터 파일을 읽어서, 하나의 파일로 만들어, workeraction.csv 파일로 만드는 코드를 작성해주세요.\n",
        "\n",
        "import pandas as pd\n",
        "import glob\n",
        "import os\n",
        "\n",
        "# Define the names of the three specific files\n",
        "file_stop = 'stop.csv'\n",
        "file_walk = 'walk.csv'\n",
        "file_run = 'run.csv'\n",
        "\n",
        "# Initialize an empty list to store dataframes\n",
        "df_list = []\n",
        "\n",
        "# List of files to attempt to read\n",
        "files_to_read = [file_stop, file_walk, file_run]\n",
        "\n",
        "# Read each specific CSV file if it exists and append its dataframe to the list\n",
        "for file in files_to_read:\n",
        "    if os.path.exists(file):\n",
        "        try:\n",
        "            df = pd.read_csv(file)\n",
        "            df_list.append(df)\n",
        "            print(f\"Successfully read {file}\")\n",
        "        except Exception as e:\n",
        "            print(f\"Error reading {file}: {e}\")\n",
        "    else:\n",
        "        print(f\"File not found: {file}\")\n",
        "\n",
        "# Check if any dataframes were read\n",
        "if not df_list:\n",
        "    print(\"No dataframes were successfully read from the specified files. Cannot concatenate.\")\n",
        "else:\n",
        "    # Concatenate all dataframes into a single dataframe\n",
        "    # pd.concat requires at least one dataframe in the list\n",
        "    combined_df = pd.concat(df_list, ignore_index=True)\n",
        "\n",
        "    # Save the combined dataframe to a new CSV file\n",
        "    combined_df.to_csv('workeraction.csv', index=False)\n",
        "\n",
        "    print(\"Combined data saved to workeraction.csv\")\n",
        "\n",
        "print(\"\\nFiles in current directory:\")\n",
        "print(os.listdir('.'))"
      ]
    },
    {
      "source": [
        "# Task\n",
        "작업자 3가지 행동에 대한 데이터셋임. 이 데이터셋으로 분석할 수 있는 내용은 무엇인 있는가\n",
        "\n",
        "Here is all the data you need:\n",
        "\"workeraction.csv\""
      ],
      "cell_type": "markdown",
      "metadata": {
        "id": "Fw2AEDH4Qjgd"
      }
    },
    {
      "source": [
        "## Data loading\n",
        "\n",
        "### Subtask:\n",
        "Load the \"workeraction.csv\" file into a pandas DataFrame.\n"
      ],
      "cell_type": "markdown",
      "metadata": {
        "id": "3x6JavBiQkE3"
      }
    },
    {
      "source": [
        "**Reasoning**:\n",
        "Load the \"workeraction.csv\" file into a pandas DataFrame and display its first few rows.\n",
        "\n"
      ],
      "cell_type": "markdown",
      "metadata": {
        "id": "mRQAged3QkjS"
      }
    },
    {
      "source": [
        "import pandas as pd\n",
        "try:\n",
        "    df = pd.read_csv('workeraction.csv')\n",
        "    display(df.head())\n",
        "except FileNotFoundError:\n",
        "    print(\"Error: 'workeraction.csv' not found.\")\n",
        "    df = None\n",
        "except pd.errors.ParserError:\n",
        "    print(\"Error: Could not parse 'workeraction.csv'. Check file format.\")\n",
        "    df = None\n",
        "except Exception as e:\n",
        "    print(f\"An unexpected error occurred: {e}\")\n",
        "    df = None"
      ],
      "cell_type": "code",
      "metadata": {
        "colab": {
          "base_uri": "https://localhost:8080/",
          "height": 206
        },
        "id": "E2Fpc1ZXQkzK",
        "outputId": "a1ea1baa-2755-472e-eeff-f20fc1bb25dc"
      },
      "execution_count": null,
      "outputs": [
        {
          "output_type": "display_data",
          "data": {
            "text/plain": [
              "     time       x       y       z  Absolute label\n",
              "0  0.0133  0.0195  0.0478  0.0740    0.0903  stop\n",
              "1  0.0213  0.0913  0.1110  0.0905    0.1700  stop\n",
              "2  0.0293  0.1540  0.1530  0.1390    0.2580  stop\n",
              "3  0.0373  0.1950  0.1490  0.1380    0.2810  stop\n",
              "4  0.0453  0.1900  0.1340  0.1580    0.2810  stop"
            ],
            "text/html": [
              "\n",
              "  <div id=\"df-4ede9258-f64a-4502-aec3-da209142580a\" class=\"colab-df-container\">\n",
              "    <div>\n",
              "<style scoped>\n",
              "    .dataframe tbody tr th:only-of-type {\n",
              "        vertical-align: middle;\n",
              "    }\n",
              "\n",
              "    .dataframe tbody tr th {\n",
              "        vertical-align: top;\n",
              "    }\n",
              "\n",
              "    .dataframe thead th {\n",
              "        text-align: right;\n",
              "    }\n",
              "</style>\n",
              "<table border=\"1\" class=\"dataframe\">\n",
              "  <thead>\n",
              "    <tr style=\"text-align: right;\">\n",
              "      <th></th>\n",
              "      <th>time</th>\n",
              "      <th>x</th>\n",
              "      <th>y</th>\n",
              "      <th>z</th>\n",
              "      <th>Absolute</th>\n",
              "      <th>label</th>\n",
              "    </tr>\n",
              "  </thead>\n",
              "  <tbody>\n",
              "    <tr>\n",
              "      <th>0</th>\n",
              "      <td>0.0133</td>\n",
              "      <td>0.0195</td>\n",
              "      <td>0.0478</td>\n",
              "      <td>0.0740</td>\n",
              "      <td>0.0903</td>\n",
              "      <td>stop</td>\n",
              "    </tr>\n",
              "    <tr>\n",
              "      <th>1</th>\n",
              "      <td>0.0213</td>\n",
              "      <td>0.0913</td>\n",
              "      <td>0.1110</td>\n",
              "      <td>0.0905</td>\n",
              "      <td>0.1700</td>\n",
              "      <td>stop</td>\n",
              "    </tr>\n",
              "    <tr>\n",
              "      <th>2</th>\n",
              "      <td>0.0293</td>\n",
              "      <td>0.1540</td>\n",
              "      <td>0.1530</td>\n",
              "      <td>0.1390</td>\n",
              "      <td>0.2580</td>\n",
              "      <td>stop</td>\n",
              "    </tr>\n",
              "    <tr>\n",
              "      <th>3</th>\n",
              "      <td>0.0373</td>\n",
              "      <td>0.1950</td>\n",
              "      <td>0.1490</td>\n",
              "      <td>0.1380</td>\n",
              "      <td>0.2810</td>\n",
              "      <td>stop</td>\n",
              "    </tr>\n",
              "    <tr>\n",
              "      <th>4</th>\n",
              "      <td>0.0453</td>\n",
              "      <td>0.1900</td>\n",
              "      <td>0.1340</td>\n",
              "      <td>0.1580</td>\n",
              "      <td>0.2810</td>\n",
              "      <td>stop</td>\n",
              "    </tr>\n",
              "  </tbody>\n",
              "</table>\n",
              "</div>\n",
              "    <div class=\"colab-df-buttons\">\n",
              "\n",
              "  <div class=\"colab-df-container\">\n",
              "    <button class=\"colab-df-convert\" onclick=\"convertToInteractive('df-4ede9258-f64a-4502-aec3-da209142580a')\"\n",
              "            title=\"Convert this dataframe to an interactive table.\"\n",
              "            style=\"display:none;\">\n",
              "\n",
              "  <svg xmlns=\"http://www.w3.org/2000/svg\" height=\"24px\" viewBox=\"0 -960 960 960\">\n",
              "    <path d=\"M120-120v-720h720v720H120Zm60-500h600v-160H180v160Zm220 220h160v-160H400v160Zm0 220h160v-160H400v160ZM180-400h160v-160H180v160Zm440 0h160v-160H620v160ZM180-180h160v-160H180v160Zm440 0h160v-160H620v160Z\"/>\n",
              "  </svg>\n",
              "    </button>\n",
              "\n",
              "  <style>\n",
              "    .colab-df-container {\n",
              "      display:flex;\n",
              "      gap: 12px;\n",
              "    }\n",
              "\n",
              "    .colab-df-convert {\n",
              "      background-color: #E8F0FE;\n",
              "      border: none;\n",
              "      border-radius: 50%;\n",
              "      cursor: pointer;\n",
              "      display: none;\n",
              "      fill: #1967D2;\n",
              "      height: 32px;\n",
              "      padding: 0 0 0 0;\n",
              "      width: 32px;\n",
              "    }\n",
              "\n",
              "    .colab-df-convert:hover {\n",
              "      background-color: #E2EBFA;\n",
              "      box-shadow: 0px 1px 2px rgba(60, 64, 67, 0.3), 0px 1px 3px 1px rgba(60, 64, 67, 0.15);\n",
              "      fill: #174EA6;\n",
              "    }\n",
              "\n",
              "    .colab-df-buttons div {\n",
              "      margin-bottom: 4px;\n",
              "    }\n",
              "\n",
              "    [theme=dark] .colab-df-convert {\n",
              "      background-color: #3B4455;\n",
              "      fill: #D2E3FC;\n",
              "    }\n",
              "\n",
              "    [theme=dark] .colab-df-convert:hover {\n",
              "      background-color: #434B5C;\n",
              "      box-shadow: 0px 1px 3px 1px rgba(0, 0, 0, 0.15);\n",
              "      filter: drop-shadow(0px 1px 2px rgba(0, 0, 0, 0.3));\n",
              "      fill: #FFFFFF;\n",
              "    }\n",
              "  </style>\n",
              "\n",
              "    <script>\n",
              "      const buttonEl =\n",
              "        document.querySelector('#df-4ede9258-f64a-4502-aec3-da209142580a button.colab-df-convert');\n",
              "      buttonEl.style.display =\n",
              "        google.colab.kernel.accessAllowed ? 'block' : 'none';\n",
              "\n",
              "      async function convertToInteractive(key) {\n",
              "        const element = document.querySelector('#df-4ede9258-f64a-4502-aec3-da209142580a');\n",
              "        const dataTable =\n",
              "          await google.colab.kernel.invokeFunction('convertToInteractive',\n",
              "                                                    [key], {});\n",
              "        if (!dataTable) return;\n",
              "\n",
              "        const docLinkHtml = 'Like what you see? Visit the ' +\n",
              "          '<a target=\"_blank\" href=https://colab.research.google.com/notebooks/data_table.ipynb>data table notebook</a>'\n",
              "          + ' to learn more about interactive tables.';\n",
              "        element.innerHTML = '';\n",
              "        dataTable['output_type'] = 'display_data';\n",
              "        await google.colab.output.renderOutput(dataTable, element);\n",
              "        const docLink = document.createElement('div');\n",
              "        docLink.innerHTML = docLinkHtml;\n",
              "        element.appendChild(docLink);\n",
              "      }\n",
              "    </script>\n",
              "  </div>\n",
              "\n",
              "\n",
              "    <div id=\"df-2b2306ee-41ac-4531-bb28-c46fc73b0109\">\n",
              "      <button class=\"colab-df-quickchart\" onclick=\"quickchart('df-2b2306ee-41ac-4531-bb28-c46fc73b0109')\"\n",
              "                title=\"Suggest charts\"\n",
              "                style=\"display:none;\">\n",
              "\n",
              "<svg xmlns=\"http://www.w3.org/2000/svg\" height=\"24px\"viewBox=\"0 0 24 24\"\n",
              "     width=\"24px\">\n",
              "    <g>\n",
              "        <path d=\"M19 3H5c-1.1 0-2 .9-2 2v14c0 1.1.9 2 2 2h14c1.1 0 2-.9 2-2V5c0-1.1-.9-2-2-2zM9 17H7v-7h2v7zm4 0h-2V7h2v10zm4 0h-2v-4h2v4z\"/>\n",
              "    </g>\n",
              "</svg>\n",
              "      </button>\n",
              "\n",
              "<style>\n",
              "  .colab-df-quickchart {\n",
              "      --bg-color: #E8F0FE;\n",
              "      --fill-color: #1967D2;\n",
              "      --hover-bg-color: #E2EBFA;\n",
              "      --hover-fill-color: #174EA6;\n",
              "      --disabled-fill-color: #AAA;\n",
              "      --disabled-bg-color: #DDD;\n",
              "  }\n",
              "\n",
              "  [theme=dark] .colab-df-quickchart {\n",
              "      --bg-color: #3B4455;\n",
              "      --fill-color: #D2E3FC;\n",
              "      --hover-bg-color: #434B5C;\n",
              "      --hover-fill-color: #FFFFFF;\n",
              "      --disabled-bg-color: #3B4455;\n",
              "      --disabled-fill-color: #666;\n",
              "  }\n",
              "\n",
              "  .colab-df-quickchart {\n",
              "    background-color: var(--bg-color);\n",
              "    border: none;\n",
              "    border-radius: 50%;\n",
              "    cursor: pointer;\n",
              "    display: none;\n",
              "    fill: var(--fill-color);\n",
              "    height: 32px;\n",
              "    padding: 0;\n",
              "    width: 32px;\n",
              "  }\n",
              "\n",
              "  .colab-df-quickchart:hover {\n",
              "    background-color: var(--hover-bg-color);\n",
              "    box-shadow: 0 1px 2px rgba(60, 64, 67, 0.3), 0 1px 3px 1px rgba(60, 64, 67, 0.15);\n",
              "    fill: var(--button-hover-fill-color);\n",
              "  }\n",
              "\n",
              "  .colab-df-quickchart-complete:disabled,\n",
              "  .colab-df-quickchart-complete:disabled:hover {\n",
              "    background-color: var(--disabled-bg-color);\n",
              "    fill: var(--disabled-fill-color);\n",
              "    box-shadow: none;\n",
              "  }\n",
              "\n",
              "  .colab-df-spinner {\n",
              "    border: 2px solid var(--fill-color);\n",
              "    border-color: transparent;\n",
              "    border-bottom-color: var(--fill-color);\n",
              "    animation:\n",
              "      spin 1s steps(1) infinite;\n",
              "  }\n",
              "\n",
              "  @keyframes spin {\n",
              "    0% {\n",
              "      border-color: transparent;\n",
              "      border-bottom-color: var(--fill-color);\n",
              "      border-left-color: var(--fill-color);\n",
              "    }\n",
              "    20% {\n",
              "      border-color: transparent;\n",
              "      border-left-color: var(--fill-color);\n",
              "      border-top-color: var(--fill-color);\n",
              "    }\n",
              "    30% {\n",
              "      border-color: transparent;\n",
              "      border-left-color: var(--fill-color);\n",
              "      border-top-color: var(--fill-color);\n",
              "      border-right-color: var(--fill-color);\n",
              "    }\n",
              "    40% {\n",
              "      border-color: transparent;\n",
              "      border-right-color: var(--fill-color);\n",
              "      border-top-color: var(--fill-color);\n",
              "    }\n",
              "    60% {\n",
              "      border-color: transparent;\n",
              "      border-right-color: var(--fill-color);\n",
              "    }\n",
              "    80% {\n",
              "      border-color: transparent;\n",
              "      border-right-color: var(--fill-color);\n",
              "      border-bottom-color: var(--fill-color);\n",
              "    }\n",
              "    90% {\n",
              "      border-color: transparent;\n",
              "      border-bottom-color: var(--fill-color);\n",
              "    }\n",
              "  }\n",
              "</style>\n",
              "\n",
              "      <script>\n",
              "        async function quickchart(key) {\n",
              "          const quickchartButtonEl =\n",
              "            document.querySelector('#' + key + ' button');\n",
              "          quickchartButtonEl.disabled = true;  // To prevent multiple clicks.\n",
              "          quickchartButtonEl.classList.add('colab-df-spinner');\n",
              "          try {\n",
              "            const charts = await google.colab.kernel.invokeFunction(\n",
              "                'suggestCharts', [key], {});\n",
              "          } catch (error) {\n",
              "            console.error('Error during call to suggestCharts:', error);\n",
              "          }\n",
              "          quickchartButtonEl.classList.remove('colab-df-spinner');\n",
              "          quickchartButtonEl.classList.add('colab-df-quickchart-complete');\n",
              "        }\n",
              "        (() => {\n",
              "          let quickchartButtonEl =\n",
              "            document.querySelector('#df-2b2306ee-41ac-4531-bb28-c46fc73b0109 button');\n",
              "          quickchartButtonEl.style.display =\n",
              "            google.colab.kernel.accessAllowed ? 'block' : 'none';\n",
              "        })();\n",
              "      </script>\n",
              "    </div>\n",
              "\n",
              "    </div>\n",
              "  </div>\n"
            ],
            "application/vnd.google.colaboratory.intrinsic+json": {
              "type": "dataframe",
              "summary": "{\n  \"name\": \"    df = None\",\n  \"rows\": 5,\n  \"fields\": [\n    {\n      \"column\": \"time\",\n      \"properties\": {\n        \"dtype\": \"number\",\n        \"std\": 0.012649110640673518,\n        \"min\": 0.0133,\n        \"max\": 0.0453,\n        \"num_unique_values\": 5,\n        \"samples\": [\n          0.0213,\n          0.0453,\n          0.0293\n        ],\n        \"semantic_type\": \"\",\n        \"description\": \"\"\n      }\n    },\n    {\n      \"column\": \"x\",\n      \"properties\": {\n        \"dtype\": \"number\",\n        \"std\": 0.07434536300267826,\n        \"min\": 0.0195,\n        \"max\": 0.195,\n        \"num_unique_values\": 5,\n        \"samples\": [\n          0.0913,\n          0.19,\n          0.154\n        ],\n        \"semantic_type\": \"\",\n        \"description\": \"\"\n      }\n    },\n    {\n      \"column\": \"y\",\n      \"properties\": {\n        \"dtype\": \"number\",\n        \"std\": 0.043053548053557676,\n        \"min\": 0.0478,\n        \"max\": 0.153,\n        \"num_unique_values\": 5,\n        \"samples\": [\n          0.111,\n          0.134,\n          0.153\n        ],\n        \"semantic_type\": \"\",\n        \"description\": \"\"\n      }\n    },\n    {\n      \"column\": \"z\",\n      \"properties\": {\n        \"dtype\": \"number\",\n        \"std\": 0.03576031319773361,\n        \"min\": 0.074,\n        \"max\": 0.158,\n        \"num_unique_values\": 5,\n        \"samples\": [\n          0.0905,\n          0.158,\n          0.139\n        ],\n        \"semantic_type\": \"\",\n        \"description\": \"\"\n      }\n    },\n    {\n      \"column\": \"Absolute\",\n      \"properties\": {\n        \"dtype\": \"number\",\n        \"std\": 0.08386070593549759,\n        \"min\": 0.0903,\n        \"max\": 0.281,\n        \"num_unique_values\": 4,\n        \"samples\": [\n          0.17,\n          0.281,\n          0.0903\n        ],\n        \"semantic_type\": \"\",\n        \"description\": \"\"\n      }\n    },\n    {\n      \"column\": \"label\",\n      \"properties\": {\n        \"dtype\": \"category\",\n        \"num_unique_values\": 1,\n        \"samples\": [\n          \"stop\"\n        ],\n        \"semantic_type\": \"\",\n        \"description\": \"\"\n      }\n    }\n  ]\n}"
            }
          },
          "metadata": {}
        }
      ]
    },
    {
      "source": [
        "## Data exploration\n",
        "\n",
        "### Subtask:\n",
        "Explore and understand the loaded worker action data.\n"
      ],
      "cell_type": "markdown",
      "metadata": {
        "id": "H2gQZuY_Qorz"
      }
    },
    {
      "source": [
        "**Reasoning**:\n",
        "Explore the data by examining its shape, data types, descriptive statistics, and distributions of numerical and categorical features.  Check for missing values and potential outliers.\n",
        "\n"
      ],
      "cell_type": "markdown",
      "metadata": {
        "id": "QJZyxjbOQpv_"
      }
    },
    {
      "source": [
        "# Check the shape of the DataFrame\n",
        "print(\"Shape of the DataFrame:\", df.shape)\n",
        "\n",
        "# Check data types\n",
        "print(\"\\nData Types:\\n\", df.dtypes)\n",
        "\n",
        "# Identify and quantify missing values\n",
        "print(\"\\nMissing Values:\\n\", df.isnull().sum())\n",
        "\n",
        "# Descriptive statistics for numerical columns\n",
        "numerical_cols = ['x', 'y', 'z', 'time']  # Assuming 'time' is numerical for now\n",
        "print(\"\\nDescriptive Statistics for Numerical Columns:\\n\", df[numerical_cols].describe())\n",
        "\n",
        "# Visualize distributions of numerical features (histograms and box plots)\n",
        "import matplotlib.pyplot as plt\n",
        "df[numerical_cols].hist(figsize=(10, 8), bins=20)\n",
        "plt.suptitle(\"Histograms of Numerical Features\", fontsize=16)\n",
        "plt.tight_layout(rect=[0, 0.03, 1, 0.95]) # Adjust layout to prevent overlapping titles\n",
        "plt.show()\n",
        "\n",
        "df[numerical_cols].plot(kind='box', figsize=(10, 6))\n",
        "plt.title(\"Box Plots of Numerical Features\")\n",
        "plt.show()\n",
        "\n",
        "# Analyze categorical columns\n",
        "categorical_cols = ['Absolute', 'label'] # Assuming 'Absolute' and 'label' are categorical\n",
        "for col in categorical_cols:\n",
        "    print(f\"\\nValue Counts for {col}:\\n\", df[col].value_counts())\n",
        "    df[col].value_counts().plot(kind='bar', figsize=(8, 4), title=f\"Distribution of {col}\")\n",
        "    plt.show()\n",
        "\n",
        "# Explore the time column if it exists\n",
        "if 'time' in df.columns:\n",
        "    print(\"\\nTime Column Analysis:\")\n",
        "    print(\"Min Time:\", df['time'].min())\n",
        "    print(\"Max Time:\", df['time'].max())\n",
        "    # If necessary, convert 'time' column to datetime objects\n",
        "    # df['time'] = pd.to_datetime(df['time'], unit='s') # Example conversion if the column represents seconds since epoch. Adjust unit accordingly\n",
        "    # df['time'].plot(figsize=(10,4), title='Action over Time')\n",
        "    # plt.show()\n",
        "\n",
        "# Explore relationships between numerical features\n",
        "print(\"\\nCorrelation Matrix of Numerical Features:\\n\", df[numerical_cols].corr())"
      ],
      "cell_type": "code",
      "metadata": {
        "colab": {
          "base_uri": "https://localhost:8080/",
          "height": 1000
        },
        "id": "cHXskYqLQp_t",
        "outputId": "e8cdd7fb-9594-438c-9b6a-52ec9ac3960c"
      },
      "execution_count": null,
      "outputs": [
        {
          "output_type": "stream",
          "name": "stdout",
          "text": [
            "Shape of the DataFrame: (14819, 6)\n",
            "\n",
            "Data Types:\n",
            " time        float64\n",
            "x           float64\n",
            "y           float64\n",
            "z           float64\n",
            "Absolute    float64\n",
            "label        object\n",
            "dtype: object\n",
            "\n",
            "Missing Values:\n",
            " time        0\n",
            "x           0\n",
            "y           0\n",
            "z           0\n",
            "Absolute    0\n",
            "label       0\n",
            "dtype: int64\n",
            "\n",
            "Descriptive Statistics for Numerical Columns:\n",
            "                   x             y             z          time\n",
            "count  14819.000000  14819.000000  14819.000000  14819.000000\n",
            "mean       3.063220     -1.671969      1.039996     20.219909\n",
            "std        9.605944     10.976693      7.164227     12.116177\n",
            "min      -25.100000    -46.500000    -35.900000      0.009270\n",
            "25%       -0.362500     -4.160000     -0.566000      9.890000\n",
            "50%        0.134000     -0.055800      0.107000     19.800000\n",
            "75%        4.275000      0.732500      3.550000     29.600000\n",
            "max       57.600000     41.500000     42.200000     45.100000\n"
          ]
        },
        {
          "output_type": "display_data",
          "data": {
            "text/plain": [
              "<Figure size 1000x800 with 4 Axes>"
            ],
            "image/png": "[encoded data removed]"
          },
          "metadata": {}
        },
        {
          "output_type": "display_data",
          "data": {
            "text/plain": [
              "<Figure size 1000x600 with 1 Axes>"
            ],
            "image/png": "[encoded data removed]"
          },
          "metadata": {}
        },
        {
          "output_type": "stream",
          "name": "stdout",
          "text": [
            "\n",
            "Value Counts for Absolute:\n",
            " Absolute\n",
            "10.4    42\n",
            "12.1    41\n",
            "10.9    41\n",
            "13.7    40\n",
            "11.6    40\n",
            "        ..\n",
            "54.6     1\n",
            "53.1     1\n",
            "44.7     1\n",
            "52.8     1\n",
            "55.5     1\n",
            "Name: count, Length: 2647, dtype: int64\n"
          ]
        },
        {
          "output_type": "display_data",
          "data": {
            "text/plain": [
              "<Figure size 800x400 with 1 Axes>"
            ],
            "image/png": "[encoded data removed]"
          },
          "metadata": {}
        },
        {
          "output_type": "stream",
          "name": "stdout",
          "text": [
            "\n",
            "Value Counts for label:\n",
            " label\n",
            "walk    5635\n",
            "stop    5284\n",
            "run     3900\n",
            "Name: count, dtype: int64\n"
          ]
        },
        {
          "output_type": "display_data",
          "data": {
            "text/plain": [
              "<Figure size 800x400 with 1 Axes>"
            ],
            "image/png": "[encoded data removed]"
          },
          "metadata": {}
        },
        {
          "output_type": "stream",
          "name": "stdout",
          "text": [
            "\n",
            "Time Column Analysis:\n",
            "Min Time: 0.00927\n",
            "Max Time: 45.1\n",
            "\n",
            "Correlation Matrix of Numerical Features:\n",
            "              x         y         z      time\n",
            "x     1.000000  0.136292  0.535790 -0.135154\n",
            "y     0.136292  1.000000  0.737388  0.097782\n",
            "z     0.535790  0.737388  1.000000 -0.038785\n",
            "time -0.135154  0.097782 -0.038785  1.000000\n"
          ]
        }
      ]
    },
    {
      "source": [
        "## Data analysis\n",
        "\n",
        "### Subtask:\n",
        "Analyze worker action frequencies, durations, and temporal patterns.\n"
      ],
      "cell_type": "markdown",
      "metadata": {
        "id": "P0V2p9gLQyi5"
      }
    },
    {
      "source": [
        "**Reasoning**:\n",
        "Calculate the frequency of each action type, average/min/max duration, and analyze the relationship between action type and duration.\n",
        "\n"
      ],
      "cell_type": "markdown",
      "metadata": {
        "id": "EtB5ud3pQzOJ"
      }
    },
    {
      "source": [
        "# Calculate the frequency of each action type\n",
        "action_frequencies = df['label'].value_counts()\n",
        "print(\"Action Frequencies:\\n\", action_frequencies)\n",
        "\n",
        "# Calculate the average, minimum, and maximum duration of each action type\n",
        "action_durations = df.groupby('label')['time'].agg(['mean', 'min', 'max'])\n",
        "print(\"\\nAction Durations:\\n\", action_durations)\n",
        "\n",
        "# Analyze the relationship between action type and duration (correlation)\n",
        "# Note: Correlation is not directly applicable between categorical ('label') and numerical ('time') data.\n",
        "# Instead, perform a statistical test like ANOVA to check the significance of differences in means.\n",
        "\n",
        "import scipy.stats as stats\n",
        "\n",
        "# Perform ANOVA to check the statistical significance of differences in means\n",
        "groups = [df['time'][df['label'] == label] for label in df['label'].unique()]\n",
        "fvalue, pvalue = stats.f_oneway(*groups)\n",
        "print(\"\\nANOVA Results:\")\n",
        "print(f\"F-statistic: {fvalue}\")\n",
        "print(f\"P-value: {pvalue}\")\n",
        "\n",
        "# Interpret p-value\n",
        "alpha = 0.05\n",
        "if pvalue < alpha:\n",
        "    print(\"There is a statistically significant difference in durations between action types.\")\n",
        "else:\n",
        "    print(\"There is no statistically significant difference in durations between action types.\")"
      ],
      "cell_type": "code",
      "metadata": {
        "colab": {
          "base_uri": "https://localhost:8080/"
        },
        "id": "yJi9Q3MdQzd_",
        "outputId": "bad68b61-9e02-4d2f-c0d1-57c7df46f328"
      },
      "execution_count": null,
      "outputs": [
        {
          "output_type": "stream",
          "name": "stdout",
          "text": [
            "Action Frequencies:\n",
            " label\n",
            "walk    5635\n",
            "stop    5284\n",
            "run     3900\n",
            "Name: count, dtype: int64\n",
            "\n",
            "Action Durations:\n",
            "             mean      min   max\n",
            "label                          \n",
            "run    15.596761  0.00927  31.2\n",
            "stop   21.148352  0.01330  42.3\n",
            "walk   22.548992  0.01230  45.1\n",
            "\n",
            "ANOVA Results:\n",
            "F-statistic: 426.72208989345904\n",
            "P-value: 6.576792088172248e-181\n",
            "There is a statistically significant difference in durations between action types.\n"
          ]
        }
      ]
    },
    {
      "source": [
        "## Data visualization\n",
        "\n",
        "### Subtask:\n",
        "Visualize the analysis results from the previous step.\n"
      ],
      "cell_type": "markdown",
      "metadata": {
        "id": "7wRgnfDjQ3ZX"
      }
    },
    {
      "source": [
        "**Reasoning**:\n",
        "Create visualizations (bar chart, box plot, histogram, and potentially a line chart) based on the analysis results from the previous step to fulfill the subtask requirements.\n",
        "\n"
      ],
      "cell_type": "markdown",
      "metadata": {
        "id": "WBKcozzJQ4RP"
      }
    },
    {
      "source": [
        "import matplotlib.pyplot as plt\n",
        "\n",
        "# 1. Bar chart of action frequencies\n",
        "plt.figure(figsize=(8, 6))\n",
        "df['label'].value_counts().plot(kind='bar', color=['skyblue', 'lightcoral', 'lightgreen'])\n",
        "plt.title('Frequency of Each Action Type')\n",
        "plt.xlabel('Action Type')\n",
        "plt.ylabel('Frequency')\n",
        "plt.show()\n",
        "\n",
        "# 2. Box plot of action durations\n",
        "plt.figure(figsize=(8, 6))\n",
        "df.boxplot(column='time', by='label', patch_artist=True, showmeans=True,\n",
        "           boxprops={'facecolor': 'lightblue'}, medianprops={'color': 'black'}, meanprops={'marker': 'D', 'markerfacecolor': 'red'})\n",
        "plt.title('Distribution of Durations for Each Action Type')\n",
        "plt.suptitle('') # remove the default title\n",
        "plt.xlabel('Action Type')\n",
        "plt.ylabel('Duration')\n",
        "plt.tight_layout() # improve spacing\n",
        "plt.show()\n",
        "\n",
        "# 3. Histogram of time values\n",
        "plt.figure(figsize=(8, 6))\n",
        "plt.hist(df['time'], bins=30, color='lightgreen', edgecolor='black')\n",
        "plt.title('Distribution of Time Values')\n",
        "plt.xlabel('Time')\n",
        "plt.ylabel('Frequency')\n",
        "plt.show()\n",
        "\n",
        "# 4. Line chart (if 'time' represents timestamps)\n",
        "# Assuming 'time' column represents durations instead of timestamps.\n"
      ],
      "cell_type": "code",
      "metadata": {
        "colab": {
          "base_uri": "https://localhost:8080/",
          "height": 1000
        },
        "id": "9LbapNfMQ4hA",
        "outputId": "47a81f20-d807-49ac-b82d-925e9def6c02"
      },
      "execution_count": null,
      "outputs": [
        {
          "output_type": "display_data",
          "data": {
            "text/plain": [
              "<Figure size 800x600 with 1 Axes>"
            ],
            "image/png": "[encoded data removed]"
          },
          "metadata": {}
        },
        {
          "output_type": "display_data",
          "data": {
            "text/plain": [
              "<Figure size 800x600 with 0 Axes>"
            ]
          },
          "metadata": {}
        },
        {
          "output_type": "display_data",
          "data": {
            "text/plain": [
              "<Figure size 640x480 with 1 Axes>"
            ],
            "image/png": "[encoded data removed]"
          },
          "metadata": {}
        },
        {
          "output_type": "display_data",
          "data": {
            "text/plain": [
              "<Figure size 800x600 with 1 Axes>"
            ],
            "image/png": "[encoded data removed]"
          },
          "metadata": {}
        }
      ]
    },
    {
      "source": [
        "## Summary:\n",
        "\n",
        "### Q&A\n",
        "* **What are the most frequent worker actions?**  The most frequent action is \"walk\" (5635 occurrences), followed by \"stop\" (5284) and \"run\" (3900).\n",
        "* **Is there a statistically significant difference in the durations of different worker actions?** Yes, an ANOVA test showed a statistically significant difference in durations between the three action types (p-value < 0.05).\n",
        "* **What are the average durations of each action?** The average duration of \"run\" actions was approximately 15.6 units, \"stop\" actions 21.1 units, and \"walk\" actions 22.5 units. Note that the units of the 'time' column are unknown.\n",
        "* **What other analyses could be performed?** Further investigation is needed to analyze the relationship between time and other variables, and to explore the relationship between the 'Absolute' label and the other features.  Analysis of action patterns by worker and trends over time could not be performed due to the absence of a worker ID column in the dataset and the ambiguous nature of the 'time' column.\n",
        "\n",
        "\n",
        "### Data Analysis Key Findings\n",
        "* The dataset contains 14,819 observations and 6 features with no missing values.\n",
        "* The 'time' column's meaning is ambiguous (duration or timestamp).  Its range suggests it measures the duration of the action, but the units are unknown.  Further analysis requires clarification or conversion to datetime objects if representing timestamps.\n",
        "* The numerical features ('x', 'y', 'z') show varying distributions and correlations, with 'y' and 'z' having a strong positive correlation (0.74).\n",
        "* The 'Absolute' feature has 2647 distinct values, while the 'label' feature has three categories: 'walk', 'stop', and 'run'.\n",
        "* The average duration of \"run\" actions was approximately 15.6 units, \"stop\" actions 21.1 units, and \"walk\" actions 22.5 units (units of time unknown).\n",
        "* There's a statistically significant difference in durations between the action types.\n",
        "\n",
        "\n",
        "### Insights or Next Steps\n",
        "* Clarify the meaning and units of the 'time' column (duration or timestamp) and convert if necessary.\n",
        "* Investigate the relationship between the 'Absolute' label and other features, potentially using dimensionality reduction techniques or clustering.\n",
        "* Add a worker ID column to enable analysis of action patterns per individual worker and allow for longitudinal studies.\n"
      ],
      "cell_type": "markdown",
      "metadata": {
        "id": "Y3ocbHVnQ9mJ"
      }
    },
    {
      "cell_type": "code",
      "source": [
        "from sklearn.model_selection import train_test_split\n",
        "\n",
        "# Assuming 'label' is the target variable\n",
        "X = df.drop('label', axis=1)\n",
        "y = df['label']\n",
        "\n",
        "# Convert categorical 'Absolute' column to numerical if it's not already\n",
        "# This is necessary for most ML models\n",
        "X = pd.get_dummies(X, columns=['Absolute'], drop_first=True)\n",
        "\n",
        "\n",
        "# Split data into training and testing sets\n",
        "X_train, X_test, y_train, y_test = train_test_split(X, y, test_size=0.2, random_state=42, stratify=y)"
      ],
      "metadata": {
        "id": "Gz5IbGRuSixo"
      },
      "execution_count": null,
      "outputs": []
    },
    {
      "cell_type": "code",
      "source": [
        "from sklearn.svm import SVC\n",
        "from sklearn.ensemble import RandomForestClassifier, GradientBoostingClassifier\n",
        "from sklearn.model_selection import GridSearchCV\n",
        "from sklearn.metrics import classification_report, accuracy_score, confusion_matrix\n",
        "\n",
        "# Define models\n",
        "models = {\n",
        "    'SVM': SVC(),\n",
        "    'Random Forest': RandomForestClassifier(random_state=42),\n",
        "    'Gradient Boosting': GradientBoostingClassifier(random_state=42)\n",
        "}\n",
        "\n",
        "# Define hyperparameter grids for each model\n",
        "param_grids = {\n",
        "    'SVM': {'C': [0.1, 1, 10], 'gamma': [0.1, 0.01, 0.001], 'kernel': ['rbf']},\n",
        "    'Random Forest': {'n_estimators': [50, 100, 10], 'max_depth': [None, 10, 20]},\n",
        "    'Gradient Boosting': {'n_estimators': [50, 100, 10], 'learning_rate': [0.01, 0.1, 0.2]}\n",
        "}\n",
        "\n",
        "# Train and evaluate each model with hyperparameter tuning\n",
        "results = {}\n",
        "\n",
        "for model_name, model in models.items():\n",
        "    print(f\"Training {model_name}...\")\n",
        "    grid_search = GridSearchCV(model, param_grids[model_name], cv=3, scoring='accuracy')\n",
        "    grid_search.fit(X_train, y_train)\n",
        "\n",
        "    best_model = grid_search.best_estimator_\n",
        "    best_params = grid_search.best_params_\n",
        "    y_pred = best_model.predict(X_test)\n",
        "\n",
        "    accuracy = accuracy_score(y_test, y_pred)\n",
        "    report = classification_report(y_test, y_pred)\n",
        "    cm = confusion_matrix(y_test, y_pred)\n",
        "\n",
        "    results[model_name] = {\n",
        "        'best_params': best_params,\n",
        "        'accuracy': accuracy,\n",
        "        'classification_report': report,\n",
        "        'confusion_matrix': cm\n",
        "    }\n",
        "\n",
        "    print(f\"{model_name} - Best Parameters: {best_params}\")\n",
        "    print(f\"{model_name} - Accuracy: {accuracy:.4f}\")\n",
        "    print(f\"{model_name} - Classification Report:\\n{report}\")\n",
        "    print(f\"{model_name} - Confusion Matrix:\\n{cm}\")\n",
        "    print(\"-\" * 30)"
      ],
      "metadata": {
        "colab": {
          "base_uri": "https://localhost:8080/"
        },
        "id": "AMba2LiASNcQ",
        "outputId": "d7807918-b42d-4e53-98a9-084ea5a719e2"
      },
      "execution_count": null,
      "outputs": [
        {
          "output_type": "stream",
          "name": "stdout",
          "text": [
            "Training SVM...\n",
            "SVM - Best Parameters: {'C': 10, 'gamma': 0.1, 'kernel': 'rbf'}\n",
            "SVM - Accuracy: 0.9825\n",
            "SVM - Classification Report:\n",
            "              precision    recall  f1-score   support\n",
            "\n",
            "         run       0.99      0.98      0.99       780\n",
            "        stop       0.98      0.99      0.98      1057\n",
            "        walk       0.98      0.98      0.98      1127\n",
            "\n",
            "    accuracy                           0.98      2964\n",
            "   macro avg       0.98      0.98      0.98      2964\n",
            "weighted avg       0.98      0.98      0.98      2964\n",
            "\n",
            "SVM - Confusion Matrix:\n",
            "[[ 766    2   12]\n",
            " [   0 1045   12]\n",
            " [   6   20 1101]]\n",
            "------------------------------\n",
            "Training Random Forest...\n",
            "Random Forest - Best Parameters: {'max_depth': None, 'n_estimators': 100}\n",
            "Random Forest - Accuracy: 0.9733\n",
            "Random Forest - Classification Report:\n",
            "              precision    recall  f1-score   support\n",
            "\n",
            "         run       0.98      0.95      0.97       780\n",
            "        stop       0.98      0.99      0.98      1057\n",
            "        walk       0.96      0.97      0.97      1127\n",
            "\n",
            "    accuracy                           0.97      2964\n",
            "   macro avg       0.97      0.97      0.97      2964\n",
            "weighted avg       0.97      0.97      0.97      2964\n",
            "\n",
            "Random Forest - Confusion Matrix:\n",
            "[[ 739    8   33]\n",
            " [   0 1048    9]\n",
            " [  12   17 1098]]\n",
            "------------------------------\n",
            "Training Gradient Boosting...\n",
            "Gradient Boosting - Best Parameters: {'learning_rate': 0.2, 'n_estimators': 100}\n",
            "Gradient Boosting - Accuracy: 0.9642\n",
            "Gradient Boosting - Classification Report:\n",
            "              precision    recall  f1-score   support\n",
            "\n",
            "         run       0.98      0.93      0.95       780\n",
            "        stop       0.97      0.99      0.98      1057\n",
            "        walk       0.95      0.97      0.96      1127\n",
            "\n",
            "    accuracy                           0.96      2964\n",
            "   macro avg       0.97      0.96      0.96      2964\n",
            "weighted avg       0.96      0.96      0.96      2964\n",
            "\n",
            "Gradient Boosting - Confusion Matrix:\n",
            "[[ 726   12   42]\n",
            " [   0 1042   15]\n",
            " [  16   21 1090]]\n",
            "------------------------------\n"
          ]
        }
      ]
    },
    {
      "cell_type": "code",
      "source": [
        "# Print summary of results\n",
        "print(\"Summary of Model Evaluation Results:\")\n",
        "for model_name, metrics in results.items():\n",
        "    print(f\"\\n--- {model_name} ---\")\n",
        "    print(f\"Best Parameters: {metrics['best_params']}\")\n",
        "    print(f\"Accuracy: {metrics['accuracy']:.4f}\")\n",
        "    print(\"Classification Report:\\n\", metrics['classification_report'])\n",
        "    print(\"Confusion Matrix:\\n\", metrics['confusion_matrix'])"
      ],
      "metadata": {
        "colab": {
          "base_uri": "https://localhost:8080/"
        },
        "id": "e2AFXlXUSvAj",
        "outputId": "e606bb0b-765f-4a9b-ec5c-7df7e6d323ec"
      },
      "execution_count": null,
      "outputs": [
        {
          "output_type": "stream",
          "name": "stdout",
          "text": [
            "Summary of Model Evaluation Results:\n",
            "\n",
            "--- SVM ---\n",
            "Best Parameters: {'C': 10, 'gamma': 0.1, 'kernel': 'rbf'}\n",
            "Accuracy: 0.9825\n",
            "Classification Report:\n",
            "               precision    recall  f1-score   support\n",
            "\n",
            "         run       0.99      0.98      0.99       780\n",
            "        stop       0.98      0.99      0.98      1057\n",
            "        walk       0.98      0.98      0.98      1127\n",
            "\n",
            "    accuracy                           0.98      2964\n",
            "   macro avg       0.98      0.98      0.98      2964\n",
            "weighted avg       0.98      0.98      0.98      2964\n",
            "\n",
            "Confusion Matrix:\n",
            " [[ 766    2   12]\n",
            " [   0 1045   12]\n",
            " [   6   20 1101]]\n",
            "\n",
            "--- Random Forest ---\n",
            "Best Parameters: {'max_depth': None, 'n_estimators': 100}\n",
            "Accuracy: 0.9733\n",
            "Classification Report:\n",
            "               precision    recall  f1-score   support\n",
            "\n",
            "         run       0.98      0.95      0.97       780\n",
            "        stop       0.98      0.99      0.98      1057\n",
            "        walk       0.96      0.97      0.97      1127\n",
            "\n",
            "    accuracy                           0.97      2964\n",
            "   macro avg       0.97      0.97      0.97      2964\n",
            "weighted avg       0.97      0.97      0.97      2964\n",
            "\n",
            "Confusion Matrix:\n",
            " [[ 739    8   33]\n",
            " [   0 1048    9]\n",
            " [  12   17 1098]]\n",
            "\n",
            "--- Gradient Boosting ---\n",
            "Best Parameters: {'learning_rate': 0.2, 'n_estimators': 100}\n",
            "Accuracy: 0.9642\n",
            "Classification Report:\n",
            "               precision    recall  f1-score   support\n",
            "\n",
            "         run       0.98      0.93      0.95       780\n",
            "        stop       0.97      0.99      0.98      1057\n",
            "        walk       0.95      0.97      0.96      1127\n",
            "\n",
            "    accuracy                           0.96      2964\n",
            "   macro avg       0.97      0.96      0.96      2964\n",
            "weighted avg       0.96      0.96      0.96      2964\n",
            "\n",
            "Confusion Matrix:\n",
            " [[ 726   12   42]\n",
            " [   0 1042   15]\n",
            " [  16   21 1090]]\n"
          ]
        }
      ]
    },
    {
      "cell_type": "code",
      "source": [
        "# prompt: 다음 모델 평가 결과를 설명해줘\n",
        "# Summary of Model Evaluation Results:\n",
        "# --- SVM ---\n",
        "# Best Parameters: {'C': 10, 'gamma': 0.1, 'kernel': 'rbf'}\n",
        "# Accuracy: 0.9825\n",
        "# Classification Report:\n",
        "#                precision    recall  f1-score   support\n",
        "#          run       0.99      0.98      0.99       780\n",
        "#         stop       0.98      0.99      0.98      1057\n",
        "#         walk       0.98      0.98      0.98      1127\n",
        "#     accuracy                           0.98      2964\n",
        "#    macro avg       0.98      0.98      0.98      2964\n",
        "# weighted avg       0.98      0.98      0.98      2964\n",
        "# Confusion Matrix:\n",
        "#  [[ 766    2   12]\n",
        "#  [   0 1045   12]\n",
        "#  [   6   20 1101]]\n",
        "\n",
        "해당 결과는 Support Vector Machine (SVM) 모델을 사용하여 작업자의 세 가지 행동 ('run', 'stop', 'walk')을 분류한 성능을 보여줍니다.\n",
        "\n",
        "핵심 내용은 다음과 같습니다.\n",
        "\n",
        "1.  **Best Parameters (최적 하이퍼파라미터):** 그리드 탐색 (GridSearchCV)을 통해 SVM 모델의 성능을 최적화했을 때 가장 좋은 결과를 보인 파라미터 조합입니다.\n",
        "    *   `C`: 10 (오분류에 대한 페널티 강도)\n",
        "    *   `gamma`: 0.1 (RBF 커널의 영향 범위)\n",
        "    *   `kernel`: 'rbf' (방사 기저 함수 커널 사용)\n",
        "    이 파라미터 설정으로 모델을 학습했을 때 테스트 데이터에서 가장 높은 정확도를 달성했습니다.\n",
        "\n",
        "2.  **Accuracy (정확도):** 모델이 테스트 데이터에서 올바르게 분류한 샘플의 전체 비율입니다. 0.9825의 정확도는 98.25%의 샘플을 정확히 예측했다는 의미이며, 매우 높은 성능을 나타냅니다.\n",
        "\n",
        "3.  **Classification Report (분류 보고서):** 각 클래스('run', 'stop', 'walk')별 성능 지표를 자세히 보여줍니다.\n",
        "    *   **precision (정밀도):** 특정 클래스로 예측한 샘플 중 실제로 해당 클래스인 비율입니다. 'run'으로 예측한 것 중 99%가 실제로 'run'이고, 'stop'으로 예측한 것 중 98%가 실제로 'stop'이며, 'walk'으로 예측한 것 중 98%가 실제로 'walk'입니다.\n",
        "    *   **recall (재현율):** 실제 특정 클래스인 샘플 중 모델이 올바르게 해당 클래스로 예측한 비율입니다. 실제 'run' 샘플 중 98%를 'run'으로 올바르게 예측했고, 실제 'stop' 샘플 중 99%를 'stop'으로, 실제 'walk' 샘플 중 98%를 'walk'으로 올바르게 예측했습니다.\n",
        "    *   **f1-score (F1-점수):** 정밀도와 재현율의 조화 평균으로, 두 지표를 함께 고려한 성능입니다. 세 클래스 모두 0.98 또는 0.99로 높게 나타나 모델이 각 클래스를 균형 있게 잘 분류하고 있음을 보여줍니다.\n",
        "    *   **support (서포트):** 테스트 데이터 세트에서 각 클래스의 실제 샘플 수입니다. 'run'은 780개, 'stop'은 1057개, 'walk'은 1127개의 샘플이 있습니다.\n",
        "    *   `macro avg`: 각 클래스의 정밀도, 재현율, F1-점수의 평균입니다.\n",
        "    *   `weighted avg`: 각 클래스의 서포트를 가중치로 사용하여 평균을 계산한 것입니다. 전체적으로 모든 클래스에서 높은 성능을 보임을 알 수 있습니다.\n",
        "\n",
        "4.  **Confusion Matrix (혼동 행렬):** 모델의 예측 결과가 실제 값과 어떻게 일치하거나 불일치하는지를 표 형태로 보여줍니다. 행은 실제 클래스를 나타내고, 열은 모델이 예측한 클래스를 나타냅니다.\n",
        "    *   첫 번째 행: 실제 'run' 샘플 중 766개를 'run'으로 정확히 예측했고, 2개를 'stop', 12개를 'walk'으로 잘못 예측했습니다.\n",
        "    *   두 번째 행: 실제 'stop' 샘플 중 0개를 'run'으로 예측했고, 1045개를 'stop'으로 정확히 예측했으며, 12개를 'walk'으로 잘못 예측했습니다.\n",
        "    *   세 번째 행: 실제 'walk' 샘플 중 6개를 'run'으로, 20개를 'stop'으로 잘못 예측했으며, 1101개를 'walk'으로 정확히 예측했습니다.\n",
        "    대각선 상의 값(766, 1045, 1101)은 모델이 올바르게 예측한 샘플 수이며, 나머지 값들은 오분류된 샘플 수입니다. 혼동 행렬을 보면 각 클래스에서 오분류된 샘플의 수가 적어 모델의 성능이 우수함을 다시 한번 확인할 수 있습니다.\n",
        "\n",
        "**결론적으로, SVM 모델은 주어진 데이터셋에서 작업자의 'run', 'stop', 'walk' 행동을 매우 높은 정확도(98.25%)로 효과적으로 분류하고 있음을 이 평가 결과가 보여줍니다.** 최적의 하이퍼파라미터를 사용하여 모델의 성능을 최대화했으며, 분류 보고서와 혼동 행렬에서도 각 클래스별로 우수한 정밀도와 재현율을 나타내고 있습니다."
      ],
      "metadata": {
        "id": "C7U-Y6FFpGw6"
      },
      "execution_count": null,
      "outputs": []
    },
    {
      "cell_type": "code",
      "source": [
        "import pickle\n",
        "\n",
        "# Find the best model based on accuracy\n",
        "best_model_name = max(results, key=lambda k: results[k]['accuracy'])\n",
        "best_model_info = results[best_model_name]\n",
        "\n",
        "print(f\"The best performing model is: {best_model_name}\")\n",
        "print(f\"With accuracy: {best_model_info['accuracy']:.4f}\")\n",
        "\n",
        "# Retrieve the actual best model object from the GridSearchCV result\n",
        "# You need to re-run the grid search for the best model to get the fitted object\n",
        "# Or, if you saved the grid search objects, retrieve it from there.\n",
        "# Assuming you re-run the grid search for the best model to get the object:\n",
        "\n",
        "# Retrain the best model with its best parameters on the full training data\n",
        "best_model = models[best_model_name]\n",
        "best_model.set_params(**best_model_info['best_params'])\n",
        "best_model.fit(X_train, y_train)\n",
        "\n",
        "# Define the filename for the pickle file\n",
        "filename = f'{best_model_name.replace(\" \", \"_\").lower()}_model.pkl'\n",
        "\n",
        "# Save the best model to a pickle file\n",
        "with open(filename, 'wb') as file:\n",
        "    pickle.dump(best_model, file)\n",
        "\n",
        "print(f\"Best model saved to {filename}\")"
      ],
      "metadata": {
        "colab": {
          "base_uri": "https://localhost:8080/"
        },
        "id": "pyP1tl9-jXPK",
        "outputId": "c000726c-2970-4287-ff3c-e2f2a8ac85f6"
      },
      "execution_count": null,
      "outputs": [
        {
          "output_type": "stream",
          "name": "stdout",
          "text": [
            "The best performing model is: SVM\n",
            "With accuracy: 0.9825\n",
            "Best model saved to svm_model.pkl\n"
          ]
        }
      ]
    },
    {
      "cell_type": "markdown",
      "source": [
        "**Colab에 streamlit 실행 방법**\n",
        "https://dschloe.github.io/python/2024/06/streamlit_on_google_colab/"
      ],
      "metadata": {
        "id": "l-pyoI90nfCy"
      }
    },
    {
      "cell_type": "code",
      "source": [
        "!pip install -q streamlit"
      ],
      "metadata": {
        "colab": {
          "base_uri": "https://localhost:8080/"
        },
        "id": "FG4E2-Y6kLM2",
        "outputId": "d4665a41-2e1c-479e-f6b9-92812c4c5dc4"
      },
      "execution_count": null,
      "outputs": [
        {
          "output_type": "stream",
          "name": "stdout",
          "text": [
            "\u001b[2K     \u001b[90m━━━━━━━━━━━━━━━━━━━━━━━━━━━━━━━━━━━━━━━━\u001b[0m \u001b[32m44.3/44.3 kB\u001b[0m \u001b[31m2.2 MB/s\u001b[0m eta \u001b[36m0:00:00\u001b[0m\n",
            "\u001b[2K   \u001b[90m━━━━━━━━━━━━━━━━━━━━━━━━━━━━━━━━━━━━━━━━\u001b[0m \u001b[32m9.9/9.9 MB\u001b[0m \u001b[31m47.3 MB/s\u001b[0m eta \u001b[36m0:00:00\u001b[0m\n",
            "\u001b[2K   \u001b[90m━━━━━━━━━━━━━━━━━━━━━━━━━━━━━━━━━━━━━━━━\u001b[0m \u001b[32m6.9/6.9 MB\u001b[0m \u001b[31m62.1 MB/s\u001b[0m eta \u001b[36m0:00:00\u001b[0m\n",
            "\u001b[2K   \u001b[90m━━━━━━━━━━━━━━━━━━━━━━━━━━━━━━━━━━━━━━━━\u001b[0m \u001b[32m79.1/79.1 kB\u001b[0m \u001b[31m6.0 MB/s\u001b[0m eta \u001b[36m0:00:00\u001b[0m\n",
            "\u001b[?25h"
          ]
        }
      ]
    },
    {
      "cell_type": "code",
      "source": [
        "# prompt: streamlit app을 만들어줘. ML모델인 svm_model.pkl 파일을 읽은 후,작업자 행동 csv 데이터 파일을 로드하면, 작업자가 Stop, Walk, Run 중 하나로 분류해서 결과를 알려주는 웹어플리케이션 코드를 작성\n",
        "%%writefile app.py\n",
        "import matplotlib.pyplot as plt\n",
        "import streamlit as st\n",
        "import pandas as pd\n",
        "import pickle\n",
        "import os\n",
        "\n",
        "# Load the saved model\n",
        "try:\n",
        "    # Assuming the saved model is named 'svm_model.pkl'\n",
        "    # Adjust the filename if your best model is different (e.g., random_forest_model.pkl)\n",
        "    model_filename = 'svm_model.pkl'\n",
        "    if not os.path.exists(model_filename):\n",
        "        st.error(f\"Model file not found: {model_filename}\")\n",
        "        st.stop() # Stop the app if the model file is not found\n",
        "\n",
        "    with open(model_filename, 'rb') as file:\n",
        "        model = pickle.load(file)\n",
        "    st.success(f\"Model '{model_filename}' loaded successfully.\")\n",
        "\n",
        "except Exception as e:\n",
        "    st.error(f\"Error loading the model: {e}\")\n",
        "    st.stop() # Stop the app if there's an error loading the model\n",
        "\n",
        "st.title(\"작업자 행동 분류 웹 애플리케이션\")\n",
        "\n",
        "st.write(\"CSV 파일을 업로드하여 작업자의 행동(Stop, Walk, Run)을 분류합니다.\")\n",
        "\n",
        "# File uploader for the CSV data\n",
        "uploaded_file = st.file_uploader(\"작업자 행동 데이터 CSV 파일을 선택하세요\", type=[\"csv\"])\n",
        "\n",
        "if uploaded_file is not None:\n",
        "    try:\n",
        "        # Read the uploaded CSV file into a pandas DataFrame\n",
        "        df_predict = pd.read_csv(uploaded_file)\n",
        "\n",
        "        st.subheader(\"업로드된 데이터 미리보기\")\n",
        "        st.write(df_predict.head())\n",
        "\n",
        "        # Preprocessing the uploaded data: Similar to the training data preprocessing\n",
        "        # Ensure 'Absolute' column is handled as a categorical variable\n",
        "        if 'Absolute' in df_predict.columns:\n",
        "            df_predict = pd.get_dummies(df_predict, columns=['Absolute'], drop_first=True)\n",
        "        else:\n",
        "            st.warning(\"Uploaded data does not contain an 'Absolute' column. Proceeding without it.\")\n",
        "\n",
        "        # Ensure all columns that the model was trained on are present in the prediction data\n",
        "        # This is crucial for consistent predictions. We need the list of columns from the training data X.\n",
        "        # Since we don't have X available directly here, we'll need a way to get the training columns.\n",
        "        # A robust way is to save the list of columns along with the model.\n",
        "        # For now, let's assume the columns are consistent or handle missing columns by adding them with 0s.\n",
        "\n",
        "        # --- IMPORTANT: Need to get the training column names ---\n",
        "        # The model expects the same columns with the same order as it was trained on.\n",
        "        # A better approach would be to save the list of training columns with the model.\n",
        "        # Since that wasn't done in the preceding code, we'll make an assumption or\n",
        "        # require the user to upload data with the same column structure.\n",
        "        # A quick fix is to identify columns present in the loaded model's training data\n",
        "        # This is hacky and relies on internal model structure, not recommended for production.\n",
        "        # A proper solution involves saving column names during training.\n",
        "\n",
        "        # Let's try to get feature names from the trained model if available\n",
        "        try:\n",
        "            if hasattr(model, 'feature_names_in_'):\n",
        "                training_columns = model.feature_names_in_\n",
        "                # Add missing columns with 0 and reorder columns\n",
        "                for col in training_columns:\n",
        "                    if col not in df_predict.columns:\n",
        "                        df_predict[col] = 0\n",
        "                df_predict = df_predict[training_columns]\n",
        "            else:\n",
        "                st.warning(\"Could not retrieve training column names from the model. Prediction might fail if columns are inconsistent.\")\n",
        "                # Proceeding with available columns, might cause errors if columns don't match\n",
        "                pass # Allow to proceed, but with a warning\n",
        "\n",
        "        except Exception as col_error:\n",
        "            st.error(f\"Error aligning columns: {col_error}\")\n",
        "            st.stop()\n",
        "\n",
        "\n",
        "        # Make predictions\n",
        "        predictions = model.predict(df_predict)\n",
        "\n",
        "        st.subheader(\"예측 결과\")\n",
        "\n",
        "        # Add predictions as a new column to the dataframe for display\n",
        "        df_predict['예측된_행동'] = predictions\n",
        "\n",
        "        st.write(df_predict)\n",
        "\n",
        "        # Display summary of predictions\n",
        "        st.subheader(\"예측 결과 요약\")\n",
        "        prediction_summary = df_predict['예측된_행동'].value_counts()\n",
        "        st.write(prediction_summary)\n",
        "\n",
        "        # Optional: Visualize the prediction summary\n",
        "        st.subheader(\"예측된 행동 분포\")\n",
        "        fig, ax = plt.subplots()\n",
        "        prediction_summary.plot(kind='bar', ax=ax, color=['skyblue', 'lightcoral', 'lightgreen'])\n",
        "        ax.set_title('예측된 행동 분포')\n",
        "        ax.set_xlabel('행동 유형')\n",
        "        ax.set_ylabel('빈도')\n",
        "        st.pyplot(fig)\n",
        "\n",
        "\n",
        "    except pd.errors.EmptyDataError:\n",
        "        st.error(\"업로드된 파일이 비어 있습니다.\")\n",
        "    except pd.errors.ParserError:\n",
        "        st.error(\"업로드된 파일을 파싱할 수 없습니다. CSV 형식을 확인해주세요.\")\n",
        "    except Exception as e:\n",
        "        st.error(f\"데이터 처리 중 오류 발생: {e}\")\n",
        "\n"
      ],
      "metadata": {
        "colab": {
          "base_uri": "https://localhost:8080/"
        },
        "id": "V7KfKs3FkYko",
        "outputId": "53e4935a-405d-48d0-8f3a-4c20c5a080c0"
      },
      "execution_count": null,
      "outputs": [
        {
          "output_type": "stream",
          "name": "stdout",
          "text": [
            "Writing app.py\n"
          ]
        }
      ]
    },
    {
      "cell_type": "code",
      "source": [
        "!npm install localtunnel"
      ],
      "metadata": {
        "colab": {
          "base_uri": "https://localhost:8080/"
        },
        "id": "XpgN_EMGlX26",
        "outputId": "df5ba674-8c84-4345-9cbd-85e864e9cf6f"
      },
      "execution_count": null,
      "outputs": [
        {
          "output_type": "stream",
          "name": "stdout",
          "text": [
            "\u001b[1G\u001b[0K⠙\u001b[1G\u001b[0K⠹\u001b[1G\u001b[0K⠸\u001b[1G\u001b[0K⠼\u001b[1G\u001b[0K⠴\u001b[1G\u001b[0K⠦\u001b[1G\u001b[0K⠧\u001b[1G\u001b[0K⠇\u001b[1G\u001b[0K⠏\u001b[1G\u001b[0K⠋\u001b[1G\u001b[0K⠙\u001b[1G\u001b[0K⠹\u001b[1G\u001b[0K⠸\u001b[1G\u001b[0K⠼\u001b[1G\u001b[0K⠴\u001b[1G\u001b[0K⠦\u001b[1G\u001b[0K⠧\u001b[1G\u001b[0K⠇\u001b[1G\u001b[0K⠏\u001b[1G\u001b[0K⠋\u001b[1G\u001b[0K\n",
            "added 22 packages in 3s\n",
            "\u001b[1G\u001b[0K⠋\u001b[1G\u001b[0K\n",
            "\u001b[1G\u001b[0K⠋\u001b[1G\u001b[0K3 packages are looking for funding\n",
            "\u001b[1G\u001b[0K⠋\u001b[1G\u001b[0K  run `npm fund` for details\n",
            "\u001b[1G\u001b[0K⠋\u001b[1G\u001b[0K\u001b[1mnpm\u001b[22m \u001b[96mnotice\u001b[39m\n",
            "\u001b[1mnpm\u001b[22m \u001b[96mnotice\u001b[39m New \u001b[31mmajor\u001b[39m version of npm available! \u001b[31m10.8.2\u001b[39m -> \u001b[34m11.4.1\u001b[39m\n",
            "\u001b[1mnpm\u001b[22m \u001b[96mnotice\u001b[39m Changelog: \u001b[34mhttps://github.com/npm/cli/releases/tag/v11.4.1\u001b[39m\n",
            "\u001b[1mnpm\u001b[22m \u001b[96mnotice\u001b[39m To update run: \u001b[4mnpm install -g npm@11.4.1\u001b[24m\n",
            "\u001b[1mnpm\u001b[22m \u001b[96mnotice\u001b[39m\n",
            "\u001b[1G\u001b[0K⠋\u001b[1G\u001b[0K"
          ]
        }
      ]
    },
    {
      "cell_type": "code",
      "source": [
        "!streamlit run /content/app.py &>/content/logs.txt & npx localtunnel --port 8501 & curl ipv4.icanhazip.com"
      ],
      "metadata": {
        "colab": {
          "base_uri": "https://localhost:8080/"
        },
        "id": "U6IEGXbAlkDL",
        "outputId": "86a4278d-ac3d-4f2f-f63d-d7a1081b79f9"
      },
      "execution_count": null,
      "outputs": [
        {
          "output_type": "stream",
          "name": "stdout",
          "text": [
            "34.72.48.18\n",
            "\u001b[1G\u001b[0K⠙\u001b[1G\u001b[0Kyour url is: https://curvy-roses-post.loca.lt\n"
          ]
        }
      ]
    }
  ]
}